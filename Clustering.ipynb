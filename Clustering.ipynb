{
 "cells": [
  {
   "cell_type": "markdown",
   "id": "8de3cd53-5917-4c74-b6ce-8c2befaa0ab3",
   "metadata": {},
   "source": [
    "                                                **CLUSTERING ANALYSIS **"
   ]
  },
  {
   "cell_type": "markdown",
   "id": "c764309a-4758-4f64-8c01-73e2dd206f8b",
   "metadata": {},
   "source": [
    "Understanding and Implementing K-Means, Hierarchical, and DBSCAN Algorithms\n",
    "\n"
   ]
  },
  {
   "cell_type": "markdown",
   "id": "9a6bc796-91f0-4df4-8506-3bd124fe8220",
   "metadata": {},
   "source": [
    "**Objective**:\n",
    "The objective of this assignment is to introduce various clustering algorithms, including K-Means, hierarchical, and DBSCAN, and provide hands-on experience in applying these techniques to a real-world dataset.\n"
   ]
  },
  {
   "cell_type": "code",
   "execution_count": null,
   "id": "0da09ace-a5b8-4680-a6db-eaae4ec280b2",
   "metadata": {},
   "outputs": [],
   "source": [
    "#Loading data"
   ]
  },
  {
   "cell_type": "code",
   "execution_count": 2,
   "id": "ca416e6a-78c5-4222-9988-77fc11072e3d",
   "metadata": {},
   "outputs": [
    {
     "name": "stdout",
     "output_type": "stream",
     "text": [
      "   flying patterns, earning and use of frequent flyer rewards, and use of the airline credit  \\\n",
      "0   card.  The task is to identify customer segmen...                                          \n",
      "1                                                 NaN                                          \n",
      "2                                                 NaN                                          \n",
      "3   Source: Based upon real business data; company...                                          \n",
      "4              (c) 2016 Galit Shmueli and Peter Bruce                                          \n",
      "5                                                 NaN                                          \n",
      "6                                                 NaN                                          \n",
      "7                                          Field Name                                          \n",
      "8                                                 ID#                                          \n",
      "9                                             Balance                                          \n",
      "10                                         Qual_miles                                          \n",
      "11                                          cc1_miles                                          \n",
      "12                                          cc2_miles                                          \n",
      "13                                          cc3_miles                                          \n",
      "14                                 note:  miles bins:                                          \n",
      "15                                                NaN                                          \n",
      "16                                                NaN                                          \n",
      "17                                                NaN                                          \n",
      "18                                                NaN                                          \n",
      "19                                        Bonus_miles                                          \n",
      "20                                        Bonus_trans                                          \n",
      "21                                  Flight_miles_12mo                                          \n",
      "22                                    Flight_trans_12                                          \n",
      "23                                  Days_since_enroll                                          \n",
      "24                                             Award?                                          \n",
      "\n",
      "   Unnamed: 1       Unnamed: 2                         Unnamed: 3  \\\n",
      "0         NaN              NaN                                NaN   \n",
      "1         NaN              NaN                                NaN   \n",
      "2         NaN              NaN                                NaN   \n",
      "3         NaN              NaN                                NaN   \n",
      "4         NaN              NaN                                NaN   \n",
      "5         NaN              NaN                                NaN   \n",
      "6         NaN              NaN                                NaN   \n",
      "7   Data Type  Max Data Length  Raw Data or Telcom Created Field?   \n",
      "8      NUMBER              NaN                             Telcom   \n",
      "9      NUMBER                8                                Raw   \n",
      "10     NUMBER                8                                Raw   \n",
      "11       CHAR                1                                Raw   \n",
      "12       CHAR                1                                Raw   \n",
      "13       CHAR                1                                Raw   \n",
      "14        NaN              NaN                                NaN   \n",
      "15        NaN              NaN                                NaN   \n",
      "16        NaN              NaN                                NaN   \n",
      "17        NaN              NaN                                NaN   \n",
      "18        NaN              NaN                                NaN   \n",
      "19     NUMBER              NaN                                Raw   \n",
      "20     NUMBER              NaN                                Raw   \n",
      "21     NUMBER              NaN                                Raw   \n",
      "22     NUMBER              NaN                                Raw   \n",
      "23     NUMBER              NaN                             Telcom   \n",
      "24     NUMBER              NaN                             Telcom   \n",
      "\n",
      "                                           Unnamed: 4  \n",
      "0                                                 NaN  \n",
      "1                                                 NaN  \n",
      "2                                                 NaN  \n",
      "3                                                 NaN  \n",
      "4                                                 NaN  \n",
      "5                                                 NaN  \n",
      "6                                                 NaN  \n",
      "7                                         Description  \n",
      "8                                           Unique ID  \n",
      "9           Number of miles eligible for award travel  \n",
      "10  Number of miles counted as qualifying for Topf...  \n",
      "11  Number of miles earned with freq. flyer credit...  \n",
      "12  Number of miles earned with Rewards credit car...  \n",
      "13  Number of miles earned with Small Business cre...  \n",
      "14                                    1 = under 5,000  \n",
      "15                                 2 = 5,000 - 10,000  \n",
      "16                                3 = 10,001 - 25,000  \n",
      "17                                4 = 25,001 - 50,000  \n",
      "18                                    5 = over 50,000  \n",
      "19  Number of miles earned from non-flight bonus t...  \n",
      "20  Number of non-flight bonus transactions in the...  \n",
      "21       Number of flight miles in the past 12 months  \n",
      "22  Number of flight transactions in the past 12 m...  \n",
      "23                   Number of days since Enroll_date  \n",
      "24  Dummy variable for Last_award (1=not null, 0=n...  \n"
     ]
    }
   ],
   "source": [
    "import pandas as pd\n",
    "data = pd.read_excel('C:\\\\Users\\\\rishi\\\\OneDrive\\\\Desktop\\\\DS Assigments\\\\EastWestAirlines.xlsx',header=1)\n",
    "print(data)"
   ]
  },
  {
   "cell_type": "code",
   "execution_count": 3,
   "id": "073d358e-5265-4f4d-bb6a-0fbfe7782840",
   "metadata": {},
   "outputs": [
    {
     "name": "stdout",
     "output_type": "stream",
     "text": [
      "flying patterns, earning and use of frequent flyer rewards, and use of the airline credit    object\n",
      "Unnamed: 1                                                                                   object\n",
      "Unnamed: 2                                                                                   object\n",
      "Unnamed: 3                                                                                   object\n",
      "Unnamed: 4                                                                                   object\n",
      "dtype: object\n"
     ]
    }
   ],
   "source": [
    "print(data.dtypes)"
   ]
  },
  {
   "cell_type": "markdown",
   "id": "4616471b-8cf8-48a4-abaa-9f103cf84f34",
   "metadata": {},
   "source": [
    "**Preprocessing**"
   ]
  },
  {
   "cell_type": "code",
   "execution_count": null,
   "id": "86bfca95-64cd-4fd2-8fd0-a1196a241c1b",
   "metadata": {},
   "outputs": [],
   "source": [
    "#Checking column names"
   ]
  },
  {
   "cell_type": "code",
   "execution_count": 4,
   "id": "b7c24f5c-9b90-47e2-b51b-bcf757a3efca",
   "metadata": {},
   "outputs": [
    {
     "name": "stdout",
     "output_type": "stream",
     "text": [
      "Index(['flying patterns, earning and use of frequent flyer rewards, and use of the airline credit',\n",
      "       'Unnamed: 1', 'Unnamed: 2', 'Unnamed: 3', 'Unnamed: 4'],\n",
      "      dtype='object')\n"
     ]
    }
   ],
   "source": [
    "print(data.columns)"
   ]
  },
  {
   "cell_type": "code",
   "execution_count": null,
   "id": "c6d3835a-6c4b-4a49-9048-d6d8ef503958",
   "metadata": {},
   "outputs": [],
   "source": [
    "#Striping any extra spaces from columns names"
   ]
  },
  {
   "cell_type": "code",
   "execution_count": 5,
   "id": "21918f3d-c6d8-4574-aeee-0740e225ff26",
   "metadata": {},
   "outputs": [],
   "source": [
    "data.columns = data.columns.str.strip()"
   ]
  },
  {
   "cell_type": "markdown",
   "id": "1aa9a984-443c-4f0c-a7d5-5b2bd9edf3bb",
   "metadata": {},
   "source": [
    "**Observation**\n",
    "In this 'data.columns = data.columns.str.strip()' is used to remove any leading whitespace from the column names in dataframe 'data'.This is important preprocessing step to see that column names are clean which helps in preventing issues during data manipulation \n",
    "'data.column' it refers to the column names of the DataFrame\n",
    "'str.strip()' it is a string method that removed any whitespaces at the starting and ending of each column name"
   ]
  },
  {
   "cell_type": "code",
   "execution_count": null,
   "id": "0f62f47d-bd86-44d7-98d5-5cc087056a8e",
   "metadata": {},
   "outputs": [],
   "source": [
    "#Verifying the names of the categorical column"
   ]
  },
  {
   "cell_type": "code",
   "execution_count": 6,
   "id": "652e2f73-c1cc-4853-a1a2-fe420ce6c9b3",
   "metadata": {},
   "outputs": [
    {
     "name": "stdout",
     "output_type": "stream",
     "text": [
      "Column 'category' does not exist in the DataFrame.\n"
     ]
    }
   ],
   "source": [
    "categorical_column_name = 'category'  # Replace with the actual name\n",
    "\n",
    "if categorical_column_name in data.columns:\n",
    "    label_encoder = LabelEncoder()\n",
    "    data[categorical_column_name] = label_encoder.fit_transform(data[categorical_column_name])\n",
    "else:\n",
    "    print(f\"Column '{categorical_column_name}' does not exist in the DataFrame.\")\n",
    "    "
   ]
  },
  {
   "cell_type": "markdown",
   "id": "990331bd-05fa-4a65-8bbe-346895472778",
   "metadata": {},
   "source": [
    "**Observation**\n",
    "'categorical_column_name': 'category' specifies the name of the column to be encoded so this should be replaced with the actual name of the categorical column\n",
    "'if categorical_column_name in data. columns': it checks if the specified column is in the DataFrame\n",
    "'label_encoder = LabelEncoder()': it creates an instance of LabelEncoder to transform categorical values into numerical format\n",
    "'data[categorical_column_name]=label_encoder.fit_transform(data[categorical_column_name]): it applies 'LabelEncoder' to the specified column replacing the original values with numeric labels.\n",
    "'else: print(f\"Column '{categorical_column_name}' does not exist in the data frame\"): This handles the case where the column is not found by printing an error message\n",
    "In this code first define 'categorical_column_name' with the name of the categorical column then we have to encode. The code will check if this column exists in the data frame 'data' if the column does it will use 'LabelEncoder' to convert the categorical values into numeric labels. If the column is not found it will print a message that the column does not exist"
   ]
  },
  {
   "cell_type": "code",
   "execution_count": null,
   "id": "bda2c570-0568-41e1-a9f5-69c505cea003",
   "metadata": {},
   "outputs": [],
   "source": [
    "#List of categorical columns"
   ]
  },
  {
   "cell_type": "code",
   "execution_count": 7,
   "id": "153a3815-e99a-4e58-91fb-e12dd5656e2c",
   "metadata": {},
   "outputs": [
    {
     "name": "stdout",
     "output_type": "stream",
     "text": [
      "Index(['flying patterns, earning and use of frequent flyer rewards, and use of the airline credit',\n",
      "       'Unnamed: 1', 'Unnamed: 2', 'Unnamed: 3', 'Unnamed: 4'],\n",
      "      dtype='object')\n"
     ]
    }
   ],
   "source": [
    "categorical_columns = data.select_dtypes(include=['object']).columns\n",
    "print(categorical_columns)"
   ]
  },
  {
   "cell_type": "code",
   "execution_count": 8,
   "id": "cc52d70d-dffa-4c33-b3c5-db016118133c",
   "metadata": {},
   "outputs": [
    {
     "name": "stdout",
     "output_type": "stream",
     "text": [
      "flying patterns, earning and use of frequent flyer rewards, and use of the airline credit: ['card.  The task is to identify customer segments via clustering.' nan\n",
      " 'Source: Based upon real business data; company names have been changed.'\n",
      " '(c) 2016 Galit Shmueli and Peter Bruce' 'Field Name' 'ID#' 'Balance'\n",
      " 'Qual_miles' 'cc1_miles' 'cc2_miles' 'cc3_miles' '   note:  miles bins:'\n",
      " 'Bonus_miles' 'Bonus_trans' 'Flight_miles_12mo' 'Flight_trans_12'\n",
      " 'Days_since_enroll' 'Award?']\n",
      "Unnamed: 1: [nan 'Data Type' 'NUMBER' 'CHAR']\n",
      "Unnamed: 2: [nan 'Max Data Length' 8 1]\n",
      "Unnamed: 3: [nan 'Raw Data or Telcom Created Field?' 'Telcom' 'Raw']\n",
      "Unnamed: 4: [nan 'Description' 'Unique ID' 'Number of miles eligible for award travel'\n",
      " 'Number of miles counted as qualifying for Topflight status'\n",
      " 'Number of miles earned with freq. flyer credit card in the past 12 months:'\n",
      " 'Number of miles earned with Rewards credit card in the past 12 months:'\n",
      " 'Number of miles earned with Small Business credit card in the past 12 months:'\n",
      " '1 = under 5,000' '2 = 5,000 - 10,000' '3 = 10,001 - 25,000'\n",
      " '4 = 25,001 - 50,000' '5 = over 50,000'\n",
      " 'Number of miles earned from non-flight bonus transactions in the past 12 months'\n",
      " 'Number of non-flight bonus transactions in the past 12 months'\n",
      " 'Number of flight miles in the past 12 months'\n",
      " 'Number of flight transactions in the past 12 months'\n",
      " 'Number of days since Enroll_date'\n",
      " 'Dummy variable for Last_award (1=not null, 0=null)']\n"
     ]
    }
   ],
   "source": [
    "#Preview the categorical columns\n",
    "for col in categorical_columns:\n",
    "    print(f\"{col}: {data[col].unique()}\")"
   ]
  },
  {
   "cell_type": "code",
   "execution_count": 8,
   "id": "6f92333d-d25f-486e-a065-643f99d72807",
   "metadata": {},
   "outputs": [
    {
     "name": "stdout",
     "output_type": "stream",
     "text": [
      "Column 'your_column_name' does not exist in the DataFrame.\n"
     ]
    }
   ],
   "source": [
    "#Choosing the correct column to encode(replacing column name with actual column)\n",
    "selected_column = 'your_column_name'\n",
    "\n",
    "if selected_column in data.columns:\n",
    "    label_encoder = LabelEncoder()\n",
    "    data[selected_column] = label_encoder.fit_transform(data[selected_column])\n",
    "else:\n",
    "    print(f\"Column '{selected_column}' does not exist in the DataFrame.\")"
   ]
  },
  {
   "cell_type": "markdown",
   "id": "01d32b70-5ebf-4172-bcad-3dbe0814d934",
   "metadata": {},
   "source": [
    "**Observation**\n",
    "'select_column ' 'your_column_name':it defines the name of the column to encode. replace 'your_column_name' with the actual column name that I want to process.\n",
    "'if selected_column in data.columns':checks if the specified column exists in DataFrame.\n",
    "'label_encoder = LabelEncoder()': Creates an instance of 'LabelEncoder' used to convert categorical values into numeric labels.\n",
    "'data[selected_column] = label_encoder.fit_transform(data[selected_column])': It applies 'LabelEncoder' to a specified column replacing the original categorical values with numeric labels\n",
    "else statement prints a message if the column is not found in the DataFrame helping to identify issues with column names\n",
    "\n"
   ]
  },
  {
   "cell_type": "code",
   "execution_count": 9,
   "id": "ba1196f4-db76-4394-8e62-7cf94525d417",
   "metadata": {},
   "outputs": [],
   "source": [
    "#Renaming columns manually\n",
    "data.columns = ['Column1', 'Column2', 'Column3', 'Column4', 'Column5'] "
   ]
  },
  {
   "cell_type": "code",
   "execution_count": 10,
   "id": "1416e72f-24e5-4fd7-a4ab-d9a6cad02ab2",
   "metadata": {},
   "outputs": [
    {
     "name": "stdout",
     "output_type": "stream",
     "text": [
      "Index(['Column1', 'Column2', 'Column3', 'Column4', 'Column5'], dtype='object')\n"
     ]
    }
   ],
   "source": [
    "#Viewing current column names\n",
    "print(data.columns)\n"
   ]
  },
  {
   "cell_type": "code",
   "execution_count": 11,
   "id": "99a43b68-2f05-4e56-87a0-d3283332ea6a",
   "metadata": {},
   "outputs": [],
   "source": [
    "#Renaming columns to something meaningful\n",
    "data.columns = ['CustomerIssue', 'Column1', 'Column2', 'Column3', 'Column4']"
   ]
  },
  {
   "cell_type": "code",
   "execution_count": 12,
   "id": "72d62d0e-63ee-4afd-adc2-6c06a3a0bab6",
   "metadata": {},
   "outputs": [
    {
     "name": "stdout",
     "output_type": "stream",
     "text": [
      "Categorical columns: Index(['CustomerIssue', 'Column1', 'Column2', 'Column3', 'Column4'], dtype='object')\n"
     ]
    }
   ],
   "source": [
    "#Identifying and encoding categorical columns\n",
    "categorical_columns = data.select_dtypes(include=['object']).columns\n",
    "print(\"Categorical columns:\", categorical_columns)"
   ]
  },
  {
   "cell_type": "markdown",
   "id": "29c5347e-d1f5-4453-8b27-065e81c77e3f",
   "metadata": {},
   "source": [
    "**Observation**\n",
    "This code will identify and print the names of columns in the DataFrame 'data' that contain non-numeric data\n",
    "the first line 'categorical_columns = data.select_dtypes(include=['object']).columns':This line selects all columns with datatype 'object' which typically indicates categorical data in the data frame and stores these column names in the variable 'categorical_columns'\n",
    "The last line prints the names of the categorical columns it allows us to see which column contains text or non-numeric data.\n"
   ]
  },
  {
   "cell_type": "code",
   "execution_count": 13,
   "id": "3eb1e321-772e-4282-bc80-3bbffbc2867f",
   "metadata": {},
   "outputs": [
    {
     "name": "stdout",
     "output_type": "stream",
     "text": [
      "CustomerIssue     int32\n",
      "Column1          object\n",
      "Column2          object\n",
      "Column3          object\n",
      "Column4          object\n",
      "dtype: object\n"
     ]
    }
   ],
   "source": [
    "#encoding of a categorical column\n",
    "from sklearn.preprocessing import LabelEncoder\n",
    "# Suppose you choose 'CustomerIssue' as a categorical column\n",
    "selected_column = 'CustomerIssue'\n",
    "\n",
    "if selected_column in data.columns:\n",
    "    label_encoder = LabelEncoder()\n",
    "    data[selected_column] = label_encoder.fit_transform(data[selected_column])\n",
    "else:\n",
    "    print(f\"Column '{selected_column}' does not exist in the DataFrame.\")\n",
    "    \n",
    "print(data.dtypes)"
   ]
  },
  {
   "cell_type": "markdown",
   "id": "6abfb56e-46bb-4f78-b250-e01f1065a666",
   "metadata": {},
   "source": [
    "**Observation**\n",
    "'select_column' = 'CustomerIssue': it specifies the column named 'CustomerIssue' for encoding \n",
    "if selected_column in data.columns: It checks if the column 'CustomerIssue; exists in the DataFrame 'data'\n",
    "'label_encoder = LabelEncoder()': It creates an instance of 'LabelEncoder' which will convert categorical values into numerical labels\n",
    "'data[selected_column]=label_encoder.fit_transform(data[selected_column])': it transforms the categorical values in the column 'CustomerIssue' to numeric labels and updates the data frame\n",
    "in the else statement, it prints a message if the column is not found or helps to identify issues with column names.\n"
   ]
  },
  {
   "cell_type": "code",
   "execution_count": 14,
   "id": "7c3368fd-ff7d-4736-a245-025b1c8f9899",
   "metadata": {},
   "outputs": [],
   "source": [
    "#Importing necessary library\n",
    "from sklearn.preprocessing import LabelEncoder\n",
    "\n",
    "# Create a LabelEncoder object\n",
    "label_encoder = LabelEncoder()\n",
    "# Example DataFrame for demonstration\n",
    "import pandas as pd\n",
    "\n",
    "# Example data\n",
    "data = pd.DataFrame({\n",
    "    'Category': ['A', 'B', 'A', 'C', 'B']\n",
    "})\n"
   ]
  },
  {
   "cell_type": "markdown",
   "id": "44013e15-982e-4de9-bf83-cc2d8f6b8238",
   "metadata": {},
   "source": [
    "**Observation**\n",
    "imported 'LabelEncoder' which is used to convert categorical values into numeric labels\n",
    "imported pandas library for creating and manipulating data frame\n",
    "'label_encoder = LabelEncoder()': it initializes an instance of 'LabelEncoder' which will be used to encode categorical data\n",
    "An example data frame named 'data' is created using pandas containing a single column 'Category' with categorical values'['A', 'B',' A',' C', 'B']'\n"
   ]
  },
  {
   "cell_type": "code",
   "execution_count": 15,
   "id": "0ade7f25-477b-4ef2-9fc0-1eb6c7479e8b",
   "metadata": {},
   "outputs": [
    {
     "name": "stdout",
     "output_type": "stream",
     "text": [
      "  Category  Category_encoded\n",
      "0        A                 0\n",
      "1        B                 1\n",
      "2        A                 0\n",
      "3        C                 2\n",
      "4        B                 1\n",
      "   flying patterns, earning and use of frequent flyer rewards, and use of the airline credit  \\\n",
      "0   card.  The task is to identify customer segmen...                                          \n",
      "1                                                 NaN                                          \n",
      "2                                                 NaN                                          \n",
      "3   Source: Based upon real business data; company...                                          \n",
      "4              (c) 2016 Galit Shmueli and Peter Bruce                                          \n",
      "5                                                 NaN                                          \n",
      "6                                                 NaN                                          \n",
      "7                                          Field Name                                          \n",
      "8                                                 ID#                                          \n",
      "9                                             Balance                                          \n",
      "10                                         Qual_miles                                          \n",
      "11                                          cc1_miles                                          \n",
      "12                                          cc2_miles                                          \n",
      "13                                          cc3_miles                                          \n",
      "14                                 note:  miles bins:                                          \n",
      "15                                                NaN                                          \n",
      "16                                                NaN                                          \n",
      "17                                                NaN                                          \n",
      "18                                                NaN                                          \n",
      "19                                        Bonus_miles                                          \n",
      "20                                        Bonus_trans                                          \n",
      "21                                  Flight_miles_12mo                                          \n",
      "22                                    Flight_trans_12                                          \n",
      "23                                  Days_since_enroll                                          \n",
      "24                                             Award?                                          \n",
      "\n",
      "   Unnamed: 1       Unnamed: 2                         Unnamed: 3  \\\n",
      "0         NaN              NaN                                NaN   \n",
      "1         NaN              NaN                                NaN   \n",
      "2         NaN              NaN                                NaN   \n",
      "3         NaN              NaN                                NaN   \n",
      "4         NaN              NaN                                NaN   \n",
      "5         NaN              NaN                                NaN   \n",
      "6         NaN              NaN                                NaN   \n",
      "7   Data Type  Max Data Length  Raw Data or Telcom Created Field?   \n",
      "8      NUMBER              NaN                             Telcom   \n",
      "9      NUMBER                8                                Raw   \n",
      "10     NUMBER                8                                Raw   \n",
      "11       CHAR                1                                Raw   \n",
      "12       CHAR                1                                Raw   \n",
      "13       CHAR                1                                Raw   \n",
      "14        NaN              NaN                                NaN   \n",
      "15        NaN              NaN                                NaN   \n",
      "16        NaN              NaN                                NaN   \n",
      "17        NaN              NaN                                NaN   \n",
      "18        NaN              NaN                                NaN   \n",
      "19     NUMBER              NaN                                Raw   \n",
      "20     NUMBER              NaN                                Raw   \n",
      "21     NUMBER              NaN                                Raw   \n",
      "22     NUMBER              NaN                                Raw   \n",
      "23     NUMBER              NaN                             Telcom   \n",
      "24     NUMBER              NaN                             Telcom   \n",
      "\n",
      "                                           Unnamed: 4  \n",
      "0                                                 NaN  \n",
      "1                                                 NaN  \n",
      "2                                                 NaN  \n",
      "3                                                 NaN  \n",
      "4                                                 NaN  \n",
      "5                                                 NaN  \n",
      "6                                                 NaN  \n",
      "7                                         Description  \n",
      "8                                           Unique ID  \n",
      "9           Number of miles eligible for award travel  \n",
      "10  Number of miles counted as qualifying for Topf...  \n",
      "11  Number of miles earned with freq. flyer credit...  \n",
      "12  Number of miles earned with Rewards credit car...  \n",
      "13  Number of miles earned with Small Business cre...  \n",
      "14                                    1 = under 5,000  \n",
      "15                                 2 = 5,000 - 10,000  \n",
      "16                                3 = 10,001 - 25,000  \n",
      "17                                4 = 25,001 - 50,000  \n",
      "18                                    5 = over 50,000  \n",
      "19  Number of miles earned from non-flight bonus t...  \n",
      "20  Number of non-flight bonus transactions in the...  \n",
      "21       Number of flight miles in the past 12 months  \n",
      "22  Number of flight transactions in the past 12 m...  \n",
      "23                   Number of days since Enroll_date  \n",
      "24  Dummy variable for Last_award (1=not null, 0=n...  \n",
      "flying patterns, earning and use of frequent flyer rewards, and use of the airline credit    object\n",
      "Unnamed: 1                                                                                   object\n",
      "Unnamed: 2                                                                                   object\n",
      "Unnamed: 3                                                                                   object\n",
      "Unnamed: 4                                                                                   object\n",
      "dtype: object\n",
      "  flying patterns, earning and use of frequent flyer rewards, and use of the airline credit  \\\n",
      "0  card.  The task is to identify customer segmen...                                          \n",
      "1                                                NaN                                          \n",
      "2                                                NaN                                          \n",
      "3  Source: Based upon real business data; company...                                          \n",
      "4             (c) 2016 Galit Shmueli and Peter Bruce                                          \n",
      "\n",
      "  Unnamed: 1 Unnamed: 2 Unnamed: 3 Unnamed: 4  \n",
      "0        NaN        NaN        NaN        NaN  \n",
      "1        NaN        NaN        NaN        NaN  \n",
      "2        NaN        NaN        NaN        NaN  \n",
      "3        NaN        NaN        NaN        NaN  \n",
      "4        NaN        NaN        NaN        NaN  \n"
     ]
    }
   ],
   "source": [
    "#Applying LabelEncoder to the 'Category' column\n",
    "data['Category_encoded'] = label_encoder.fit_transform(data['Category'])\n",
    "\n",
    "print(data)\n",
    "\n",
    "import pandas as pd\n",
    "from sklearn.preprocessing import  StandardScaler\n",
    "\n",
    "data = pd.read_excel('C:\\\\Users\\\\rishi\\\\OneDrive\\\\Desktop\\\\DS Assigments\\\\EastWestAirlines.xlsx',header=1)\n",
    "print(data)\n",
    "\n",
    "print(data.dtypes)\n",
    "print(data.head())\n"
   ]
  },
  {
   "cell_type": "code",
   "execution_count": 16,
   "id": "967632e7-f0ff-499f-97b6-44c604a0b742",
   "metadata": {},
   "outputs": [
    {
     "name": "stdout",
     "output_type": "stream",
     "text": [
      "Initial data shape: (25, 5)\n",
      "Initial data preview:\n",
      "  flying patterns, earning and use of frequent flyer rewards, and use of the airline credit  \\\n",
      "0  card.  The task is to identify customer segmen...                                          \n",
      "1                                                NaN                                          \n",
      "2                                                NaN                                          \n",
      "3  Source: Based upon real business data; company...                                          \n",
      "4             (c) 2016 Galit Shmueli and Peter Bruce                                          \n",
      "\n",
      "  Unnamed: 1 Unnamed: 2 Unnamed: 3 Unnamed: 4  \n",
      "0        NaN        NaN        NaN        NaN  \n",
      "1        NaN        NaN        NaN        NaN  \n",
      "2        NaN        NaN        NaN        NaN  \n",
      "3        NaN        NaN        NaN        NaN  \n",
      "4        NaN        NaN        NaN        NaN  \n"
     ]
    }
   ],
   "source": [
    "# Inspect the initial DataFrame\n",
    "print(\"Initial data shape:\", data.shape)\n",
    "print(\"Initial data preview:\")\n",
    "print(data.head())\n"
   ]
  },
  {
   "cell_type": "code",
   "execution_count": 17,
   "id": "dad52165-95a5-4d4f-a2af-ac0366770967",
   "metadata": {},
   "outputs": [
    {
     "name": "stdout",
     "output_type": "stream",
     "text": [
      "Shape after conversion to numeric: (25, 5)\n",
      "   flying patterns, earning and use of frequent flyer rewards, and use of the airline credit  \\\n",
      "0                                                NaN                                           \n",
      "1                                                NaN                                           \n",
      "2                                                NaN                                           \n",
      "3                                                NaN                                           \n",
      "4                                                NaN                                           \n",
      "\n",
      "   Unnamed: 1  Unnamed: 2  Unnamed: 3  Unnamed: 4  \n",
      "0         NaN         NaN         NaN         NaN  \n",
      "1         NaN         NaN         NaN         NaN  \n",
      "2         NaN         NaN         NaN         NaN  \n",
      "3         NaN         NaN         NaN         NaN  \n",
      "4         NaN         NaN         NaN         NaN  \n"
     ]
    }
   ],
   "source": [
    "# Convert non-numeric columns to numeric\n",
    "for col in data.select_dtypes(include=['object']).columns:\n",
    "    data[col] = pd.to_numeric(data[col], errors='coerce') \n",
    "    # Convert to numeric, coercing errors to NaN\n",
    "\n",
    "# Print shape after conversion\n",
    "print(\"Shape after conversion to numeric:\", data.shape)\n",
    "print(data.head())\n"
   ]
  },
  {
   "cell_type": "code",
   "execution_count": 21,
   "id": "ecda0e92-e3d2-48d7-a04b-7b31a75c8dcb",
   "metadata": {},
   "outputs": [
    {
     "name": "stdout",
     "output_type": "stream",
     "text": [
      "Missing values before dropping NaNs:\n",
      "flying patterns, earning and use of frequent flyer rewards, and use of the airline credit    25\n",
      "Unnamed: 1                                                                                   25\n",
      "Unnamed: 2                                                                                   20\n",
      "Unnamed: 3                                                                                   25\n",
      "Unnamed: 4                                                                                   25\n",
      "dtype: int64\n",
      "Missing values after dropping NaNs:\n",
      "flying patterns, earning and use of frequent flyer rewards, and use of the airline credit    0\n",
      "Unnamed: 1                                                                                   0\n",
      "Unnamed: 2                                                                                   0\n",
      "Unnamed: 3                                                                                   0\n",
      "Unnamed: 4                                                                                   0\n",
      "dtype: int64\n",
      "Number of rows after dropping NaNs: 0\n"
     ]
    }
   ],
   "source": [
    "# Check for and handle missing values\n",
    "print(\"Missing values before dropping NaNs:\")\n",
    "print(data.isna().sum())\n",
    "data = data.dropna()  # Drop rows with NaN values\n",
    "print(\"Missing values after dropping NaNs:\")\n",
    "print(data.isna().sum())\n",
    "print(f\"Number of rows after dropping NaNs: {data.shape[0]}\")"
   ]
  },
  {
   "cell_type": "markdown",
   "id": "e74ed557-5e80-4980-9a39-6b6604c28f93",
   "metadata": {},
   "source": [
    "**Observation**\n"
   ]
  },
  {
   "cell_type": "markdown",
   "id": "c7556241-f93e-4769-8750-bd91c8199981",
   "metadata": {},
   "source": [
    "This code is used to handle missing values in a data frame by removing rows that contain 'NaN' values.\n",
    "print(\"Missing values before dropping NaNs\"): It shows a message that the count of missing values will be displayed before any rows are removed.\n",
    "'print(data.isna().sum())' prints the number of missing values in each column of the data frame before any rows are dropped.\n",
    "'data = data.dropna()': Removes all rows that contain 'NaN' values from the dataframe\n",
    "and shows a message that the count of missing values will be displayed after the rows have been removed.\n",
    "print(data.isna().sum()) Prints the number of missing values in each column of the data frame after removing rows with NaN values.\n",
    "'print(f\"Number of rows after dropping Nans:{data.shape[0]}\")' displays the total number of rows left in the data frame after removing rows with missing values."
   ]
  },
  {
   "cell_type": "code",
   "execution_count": 18,
   "id": "b8205a35-832c-4aa3-b569-9c433c5f48e2",
   "metadata": {},
   "outputs": [
    {
     "name": "stdout",
     "output_type": "stream",
     "text": [
      "Data types after conversion:\n",
      "flying patterns, earning and use of frequent flyer rewards, and use of the airline credit    float64\n",
      "Unnamed: 1                                                                                   float64\n",
      "Unnamed: 2                                                                                   float64\n",
      "Unnamed: 3                                                                                   float64\n",
      "Unnamed: 4                                                                                   float64\n",
      "dtype: object\n"
     ]
    }
   ],
   "source": [
    "# Print data types after conversion\n",
    "print(\"Data types after conversion:\")\n",
    "print(data.dtypes)\n"
   ]
  },
  {
   "cell_type": "code",
   "execution_count": 19,
   "id": "8b8685fa-f7ac-47ea-b0a4-0256852872dc",
   "metadata": {},
   "outputs": [
    {
     "name": "stdout",
     "output_type": "stream",
     "text": [
      "Unique values in flying patterns, earning and use of frequent flyer rewards, and use of the airline credit: [nan]\n",
      "Unique values in Unnamed: 1: [nan]\n",
      "Unique values in Unnamed: 2: [nan  8.  1.]\n",
      "Unique values in Unnamed: 3: [nan]\n",
      "Unique values in Unnamed: 4: [nan]\n"
     ]
    }
   ],
   "source": [
    "# Check unique values for each column to confirm correct conversion\n",
    "for col in data.columns:\n",
    "    print(f\"Unique values in {col}: {data[col].unique()}\")"
   ]
  },
  {
   "cell_type": "markdown",
   "id": "b6ef0669-205a-42bf-b796-3c7ef8acf211",
   "metadata": {},
   "source": [
    "**Observation**\n",
    "'for col in data.columns;' loops through each column in the dataframe \n",
    "'print(f\"Unique values in {col}:{data[col].unique()}\")': prints the name of the current column and unique values."
   ]
  },
  {
   "cell_type": "code",
   "execution_count": 25,
   "id": "8a9e5b46-07f4-4168-baeb-d4e0aaa110f4",
   "metadata": {},
   "outputs": [],
   "source": [
    "# Impute missing values with a different method if necessary\n",
    "data = data.fillna(data.mean())\n"
   ]
  },
  {
   "cell_type": "code",
   "execution_count": 26,
   "id": "2a46b052-6968-4b2f-99ab-14f7e1d1c5c0",
   "metadata": {},
   "outputs": [
    {
     "name": "stdout",
     "output_type": "stream",
     "text": [
      "Number of rows after imputation: 0\n"
     ]
    }
   ],
   "source": [
    "# Ensure DataFrame has valid data\n",
    "print(f\"Number of rows after imputation: {data.shape[0]}\")"
   ]
  },
  {
   "cell_type": "code",
   "execution_count": 27,
   "id": "c61fdbbd-8757-48d4-9097-7c48a82f4c4f",
   "metadata": {},
   "outputs": [
    {
     "name": "stdout",
     "output_type": "stream",
     "text": [
      "Missing values after imputation:\n",
      "flying patterns, earning and use of frequent flyer rewards, and use of the airline credit    0\n",
      "Unnamed: 1                                                                                   0\n",
      "Unnamed: 2                                                                                   0\n",
      "Unnamed: 3                                                                                   0\n",
      "Unnamed: 4                                                                                   0\n",
      "dtype: int64\n"
     ]
    }
   ],
   "source": [
    "# Check if imputation created any new NaN values\n",
    "print(\"Missing values after imputation:\")\n",
    "print(data.isna().sum())\n"
   ]
  },
  {
   "cell_type": "code",
   "execution_count": 28,
   "id": "ad8b474c-c734-4a31-aa29-f40d6d506ddc",
   "metadata": {},
   "outputs": [],
   "source": [
    "# Create a sample DataFrame for testing\n",
    "sample_data = pd.DataFrame({\n",
    "    'A': [1, 2, 3, None],\n",
    "    'B': ['a', 'b', None, 'd']\n",
    "})\n"
   ]
  },
  {
   "cell_type": "markdown",
   "id": "5420e876-940c-458c-ada5-a8ed189ee3df",
   "metadata": {},
   "source": [
    "**Observation**\n",
    "It creates a sample data frame named 'sample_data' to demonstrate how data with missing values can be structured.\n",
    "'sample_data = pd.DataFrame({ ' : Initializes a DataFrame with two columns: 'A' and 'B'.\n",
    "defining data column 'A' contains numerical values [1,2,3,None]', None: a missing value.\n",
    "column 'b' contains categorical values '[a,b,None,d].\n"
   ]
  },
  {
   "cell_type": "code",
   "execution_count": 29,
   "id": "207b88f8-29b9-4df7-a830-3b933840cf34",
   "metadata": {},
   "outputs": [
    {
     "name": "stdout",
     "output_type": "stream",
     "text": [
      "Sample data after preprocessing:\n",
      "     A     B\n",
      "0  1.0     a\n",
      "1  2.0     b\n",
      "2  3.0  None\n",
      "3  NaN     d\n"
     ]
    }
   ],
   "source": [
    "# Print sample data after preprocessing\n",
    "print(\"Sample data after preprocessing:\")\n",
    "print(sample_data)"
   ]
  },
  {
   "cell_type": "code",
   "execution_count": 30,
   "id": "cd290a82-5b52-4840-9a4c-92d94899dd9c",
   "metadata": {},
   "outputs": [
    {
     "name": "stdout",
     "output_type": "stream",
     "text": [
      "   East-West Airlines is trying to learn more about its customers.  Key issues are their  \\\n",
      "0   flying patterns, earning and use of frequent f...                                      \n",
      "1   card.  The task is to identify customer segmen...                                      \n",
      "2                                                 NaN                                      \n",
      "3                                                 NaN                                      \n",
      "4   Source: Based upon real business data; company...                                      \n",
      "5              (c) 2016 Galit Shmueli and Peter Bruce                                      \n",
      "6                                                 NaN                                      \n",
      "7                                                 NaN                                      \n",
      "8                                          Field Name                                      \n",
      "9                                                 ID#                                      \n",
      "10                                            Balance                                      \n",
      "11                                         Qual_miles                                      \n",
      "12                                          cc1_miles                                      \n",
      "13                                          cc2_miles                                      \n",
      "14                                          cc3_miles                                      \n",
      "15                                 note:  miles bins:                                      \n",
      "16                                                NaN                                      \n",
      "17                                                NaN                                      \n",
      "18                                                NaN                                      \n",
      "19                                                NaN                                      \n",
      "20                                        Bonus_miles                                      \n",
      "21                                        Bonus_trans                                      \n",
      "22                                  Flight_miles_12mo                                      \n",
      "23                                    Flight_trans_12                                      \n",
      "24                                  Days_since_enroll                                      \n",
      "25                                             Award?                                      \n",
      "\n",
      "   Unnamed: 1       Unnamed: 2                         Unnamed: 3  \\\n",
      "0         NaN              NaN                                NaN   \n",
      "1         NaN              NaN                                NaN   \n",
      "2         NaN              NaN                                NaN   \n",
      "3         NaN              NaN                                NaN   \n",
      "4         NaN              NaN                                NaN   \n",
      "5         NaN              NaN                                NaN   \n",
      "6         NaN              NaN                                NaN   \n",
      "7         NaN              NaN                                NaN   \n",
      "8   Data Type  Max Data Length  Raw Data or Telcom Created Field?   \n",
      "9      NUMBER              NaN                             Telcom   \n",
      "10     NUMBER                8                                Raw   \n",
      "11     NUMBER                8                                Raw   \n",
      "12       CHAR                1                                Raw   \n",
      "13       CHAR                1                                Raw   \n",
      "14       CHAR                1                                Raw   \n",
      "15        NaN              NaN                                NaN   \n",
      "16        NaN              NaN                                NaN   \n",
      "17        NaN              NaN                                NaN   \n",
      "18        NaN              NaN                                NaN   \n",
      "19        NaN              NaN                                NaN   \n",
      "20     NUMBER              NaN                                Raw   \n",
      "21     NUMBER              NaN                                Raw   \n",
      "22     NUMBER              NaN                                Raw   \n",
      "23     NUMBER              NaN                                Raw   \n",
      "24     NUMBER              NaN                             Telcom   \n",
      "25     NUMBER              NaN                             Telcom   \n",
      "\n",
      "                                           Unnamed: 4  \n",
      "0                                                 NaN  \n",
      "1                                                 NaN  \n",
      "2                                                 NaN  \n",
      "3                                                 NaN  \n",
      "4                                                 NaN  \n",
      "5                                                 NaN  \n",
      "6                                                 NaN  \n",
      "7                                                 NaN  \n",
      "8                                         Description  \n",
      "9                                           Unique ID  \n",
      "10          Number of miles eligible for award travel  \n",
      "11  Number of miles counted as qualifying for Topf...  \n",
      "12  Number of miles earned with freq. flyer credit...  \n",
      "13  Number of miles earned with Rewards credit car...  \n",
      "14  Number of miles earned with Small Business cre...  \n",
      "15                                    1 = under 5,000  \n",
      "16                                 2 = 5,000 - 10,000  \n",
      "17                                3 = 10,001 - 25,000  \n",
      "18                                4 = 25,001 - 50,000  \n",
      "19                                    5 = over 50,000  \n",
      "20  Number of miles earned from non-flight bonus t...  \n",
      "21  Number of non-flight bonus transactions in the...  \n",
      "22       Number of flight miles in the past 12 months  \n",
      "23  Number of flight transactions in the past 12 m...  \n",
      "24                   Number of days since Enroll_date  \n",
      "25  Dummy variable for Last_award (1=not null, 0=n...  \n"
     ]
    }
   ],
   "source": [
    "#Reloding the dataset\n",
    "data = pd.read_excel('C:\\\\Users\\\\rishi\\\\OneDrive\\\\Desktop\\\\DS Assigments\\\\EastWestAirlines.xlsx')\n",
    "print(data)"
   ]
  },
  {
   "cell_type": "code",
   "execution_count": 31,
   "id": "b94348a7-b1ee-4547-8024-22e35ec7241c",
   "metadata": {},
   "outputs": [],
   "source": [
    "# Apply preprocessing steps\n",
    "for col in data.select_dtypes(include=['object']).columns:\n",
    "    data[col] = pd.to_numeric(data[col], errors='coerce')"
   ]
  },
  {
   "cell_type": "code",
   "execution_count": 32,
   "id": "a2fe6c6a-4f02-4119-bf40-69b985af9f51",
   "metadata": {},
   "outputs": [],
   "source": [
    "# Handle missing values\n",
    "data = data.fillna(data.mean())"
   ]
  },
  {
   "cell_type": "code",
   "execution_count": 33,
   "id": "9fa82470-9e5f-4654-a782-38dd2806e472",
   "metadata": {},
   "outputs": [],
   "source": [
    "# Ensure DataFrame is not empty\n",
    "if data.shape[0] == 0:\n",
    "    raise ValueError(\"DataFrame is empty after cleaning. Review data cleaning steps.\")\n"
   ]
  },
  {
   "cell_type": "markdown",
   "id": "537f9b50-6e3c-4f56-ad31-faa989eaaf1e",
   "metadata": {},
   "source": [
    "**Standard Scaling**"
   ]
  },
  {
   "cell_type": "code",
   "execution_count": 34,
   "id": "633d6312-7327-42bf-9de6-2308af39eebc",
   "metadata": {},
   "outputs": [
    {
     "name": "stdout",
     "output_type": "stream",
     "text": [
      "Data scaling completed.\n"
     ]
    },
    {
     "name": "stderr",
     "output_type": "stream",
     "text": [
      "C:\\ProgramData\\anaconda3\\Lib\\site-packages\\sklearn\\utils\\extmath.py:1047: RuntimeWarning: invalid value encountered in divide\n",
      "  updated_mean = (last_sum + new_sum) / updated_sample_count\n",
      "C:\\ProgramData\\anaconda3\\Lib\\site-packages\\sklearn\\utils\\extmath.py:1052: RuntimeWarning: invalid value encountered in divide\n",
      "  T = new_sum / new_sample_count\n",
      "C:\\ProgramData\\anaconda3\\Lib\\site-packages\\sklearn\\utils\\extmath.py:1072: RuntimeWarning: invalid value encountered in divide\n",
      "  new_unnormalized_variance -= correction**2 / new_sample_count\n"
     ]
    }
   ],
   "source": [
    "# Apply Standard Scaling\n",
    "scaler = StandardScaler()\n",
    "data_scaled = scaler.fit_transform(data)\n",
    "\n",
    "print(\"Data scaling completed.\")\n"
   ]
  },
  {
   "cell_type": "markdown",
   "id": "e0df0dbb-7c28-4f72-b376-43bbb731bf06",
   "metadata": {},
   "source": [
    "**Observation**\n",
    "'scaler = StandardScaler()': initializes an instance of 'StandardScaler' which will be used to standardize the features of data.\n",
    "The second line fits the 'StandardScaler' to the data and tranform it this scales the features so that they have a mean of 0 and a standard deviation of 1.\n",
    "And prints a message indicating that the data scaling process is completed\n"
   ]
  },
  {
   "cell_type": "markdown",
   "id": "d001b523-0f60-4466-8bf0-1d74b797c73b",
   "metadata": {},
   "source": [
    "**EDA**"
   ]
  },
  {
   "cell_type": "markdown",
   "id": "851f6a26-d0ad-4198-860e-3204e04b1d63",
   "metadata": {},
   "source": [
    "**Histrogram**"
   ]
  },
  {
   "cell_type": "code",
   "execution_count": 35,
   "id": "460888e8-23d1-4882-8416-3b4d01819b4f",
   "metadata": {},
   "outputs": [],
   "source": [
    "import matplotlib.pyplot as plt\n",
    "import seaborn as sns\n"
   ]
  },
  {
   "cell_type": "code",
   "execution_count": 36,
   "id": "324a636e-ec46-4853-af66-838e1c02e871",
   "metadata": {},
   "outputs": [
    {
     "data": {
      "image/png": "[encoded data removed]",
      "text/plain": [
       "<Figure size 1000x800 with 6 Axes>"
      ]
     },
     "metadata": {},
     "output_type": "display_data"
    }
   ],
   "source": [
    "# Histograms of features\n",
    "data_scaled_df = pd.DataFrame(data_scaled, columns=data.columns)\n",
    "data_scaled_df.hist(figsize=(10, 8))\n",
    "plt.show()"
   ]
  },
  {
   "cell_type": "markdown",
   "id": "c95e7c9c-f2d8-454c-b089-ae5fc40a3e4f",
   "metadata": {},
   "source": [
    "**Observation**\n",
    "The first line converts the scaled data back into a DataFrame and assigns the original column names to it.\n",
    "data_scaled_df.hist(figsize=(10, 8))': creates histogramand  for each column in the DataFrame the figsize=(10,8) parameter specifies the size of the figure for better readability\n",
    "displays the histogram"
   ]
  },
  {
   "cell_type": "markdown",
   "id": "d9e16a6c-5fc5-48cf-98b5-bc51ea8b2504",
   "metadata": {},
   "source": [
    "**Scatter plot**"
   ]
  },
  {
   "cell_type": "code",
   "execution_count": 37,
   "id": "121c2f21-68f9-4d20-9744-4fc8632eec56",
   "metadata": {},
   "outputs": [
    {
     "name": "stderr",
     "output_type": "stream",
     "text": [
      "C:\\ProgramData\\anaconda3\\Lib\\site-packages\\seaborn\\_oldcore.py:1119: FutureWarning: use_inf_as_na option is deprecated and will be removed in a future version. Convert inf values to NaN before operating instead.\n",
      "  with pd.option_context('mode.use_inf_as_na', True):\n"
     ]
    },
    {
     "data": {
      "image/png": "[encoded data removed]",
      "text/plain": [
       "<Figure size 1250x1250 with 30 Axes>"
      ]
     },
     "metadata": {},
     "output_type": "display_data"
    }
   ],
   "source": [
    "# Pairplot or scatter plots\n",
    "sns.pairplot(data_scaled_df)\n",
    "plt.show()\n"
   ]
  },
  {
   "cell_type": "markdown",
   "id": "4cc73209-425b-42f1-bb33-79379a028287",
   "metadata": {},
   "source": [
    "**Box plot**"
   ]
  },
  {
   "cell_type": "code",
   "execution_count": 38,
   "id": "2fbcb8b9-7b6a-4638-8586-3dbcb1e9d3d6",
   "metadata": {},
   "outputs": [
    {
     "data": {
      "image/png": "[encoded data removed]",
      "text/plain": [
       "<Figure size 1200x600 with 1 Axes>"
      ]
     },
     "metadata": {},
     "output_type": "display_data"
    }
   ],
   "source": [
    "# Box plots for feature distributions\n",
    "plt.figure(figsize=(12, 6))\n",
    "sns.boxplot(data=data_scaled_df)\n",
    "plt.xticks(rotation=90)\n",
    "plt.show()"
   ]
  },
  {
   "cell_type": "markdown",
   "id": "b19d714e-74fa-4d64-bf48-06f165d39333",
   "metadata": {},
   "source": [
    "**Observation**\n",
    "'plt.figure(figsize=(12,6))' sets the size of the figure to 12 inches wide by 6 inches tall which helps in making the plot more readable\n",
    "'sna.boxplot(data=data_scaled_df)' using Seaborns boxplot function to create a boxplot for each column in the data frame this plot shows the median quartiles and any outliers in the data.\n",
    "'plt.xticks(rotation=90)' Rotates the x-axis label by 90 degrees for better undersatnding .\n",
    "\n"
   ]
  },
  {
   "cell_type": "code",
   "execution_count": 39,
   "id": "4653ae0b-11c4-49cb-ab5f-70f9c5511118",
   "metadata": {},
   "outputs": [
    {
     "name": "stdout",
     "output_type": "stream",
     "text": [
      "Missing values in scaled data:\n",
      "0    26\n",
      "1    26\n",
      "2     0\n",
      "3    26\n",
      "4    26\n",
      "dtype: int64\n"
     ]
    }
   ],
   "source": [
    "# Check for NaN values in the scaled data\n",
    "print(\"Missing values in scaled data:\")\n",
    "print(pd.DataFrame(data_scaled).isna().sum())"
   ]
  },
  {
   "cell_type": "code",
   "execution_count": 40,
   "id": "5609ae42-f952-42db-93ba-a265d2e3576c",
   "metadata": {},
   "outputs": [],
   "source": [
    "#Handling NaN values\n",
    "from sklearn.impute import SimpleImputer\n"
   ]
  },
  {
   "cell_type": "code",
   "execution_count": 41,
   "id": "b3867ea4-8a22-4bbe-b9fd-7f801f5cd00d",
   "metadata": {},
   "outputs": [],
   "source": [
    "# Impute missing values in scaled data\n",
    "imputer = SimpleImputer(strategy='mean')\n",
    "data_scaled = imputer.fit_transform(data_scaled)"
   ]
  },
  {
   "cell_type": "code",
   "execution_count": 42,
   "id": "f20ef757-a798-40d7-ab54-b0f82c68ae08",
   "metadata": {},
   "outputs": [
    {
     "name": "stdout",
     "output_type": "stream",
     "text": [
      "   East-West Airlines is trying to learn more about its customers.  Key issues are their  \\\n",
      "0   flying patterns, earning and use of frequent f...                                      \n",
      "1   card.  The task is to identify customer segmen...                                      \n",
      "2                                                 NaN                                      \n",
      "3                                                 NaN                                      \n",
      "4   Source: Based upon real business data; company...                                      \n",
      "5              (c) 2016 Galit Shmueli and Peter Bruce                                      \n",
      "6                                                 NaN                                      \n",
      "7                                                 NaN                                      \n",
      "8                                          Field Name                                      \n",
      "9                                                 ID#                                      \n",
      "10                                            Balance                                      \n",
      "11                                         Qual_miles                                      \n",
      "12                                          cc1_miles                                      \n",
      "13                                          cc2_miles                                      \n",
      "14                                          cc3_miles                                      \n",
      "15                                 note:  miles bins:                                      \n",
      "16                                                NaN                                      \n",
      "17                                                NaN                                      \n",
      "18                                                NaN                                      \n",
      "19                                                NaN                                      \n",
      "20                                        Bonus_miles                                      \n",
      "21                                        Bonus_trans                                      \n",
      "22                                  Flight_miles_12mo                                      \n",
      "23                                    Flight_trans_12                                      \n",
      "24                                  Days_since_enroll                                      \n",
      "25                                             Award?                                      \n",
      "\n",
      "   Unnamed: 1       Unnamed: 2                         Unnamed: 3  \\\n",
      "0         NaN              NaN                                NaN   \n",
      "1         NaN              NaN                                NaN   \n",
      "2         NaN              NaN                                NaN   \n",
      "3         NaN              NaN                                NaN   \n",
      "4         NaN              NaN                                NaN   \n",
      "5         NaN              NaN                                NaN   \n",
      "6         NaN              NaN                                NaN   \n",
      "7         NaN              NaN                                NaN   \n",
      "8   Data Type  Max Data Length  Raw Data or Telcom Created Field?   \n",
      "9      NUMBER              NaN                             Telcom   \n",
      "10     NUMBER                8                                Raw   \n",
      "11     NUMBER                8                                Raw   \n",
      "12       CHAR                1                                Raw   \n",
      "13       CHAR                1                                Raw   \n",
      "14       CHAR                1                                Raw   \n",
      "15        NaN              NaN                                NaN   \n",
      "16        NaN              NaN                                NaN   \n",
      "17        NaN              NaN                                NaN   \n",
      "18        NaN              NaN                                NaN   \n",
      "19        NaN              NaN                                NaN   \n",
      "20     NUMBER              NaN                                Raw   \n",
      "21     NUMBER              NaN                                Raw   \n",
      "22     NUMBER              NaN                                Raw   \n",
      "23     NUMBER              NaN                                Raw   \n",
      "24     NUMBER              NaN                             Telcom   \n",
      "25     NUMBER              NaN                             Telcom   \n",
      "\n",
      "                                           Unnamed: 4  \n",
      "0                                                 NaN  \n",
      "1                                                 NaN  \n",
      "2                                                 NaN  \n",
      "3                                                 NaN  \n",
      "4                                                 NaN  \n",
      "5                                                 NaN  \n",
      "6                                                 NaN  \n",
      "7                                                 NaN  \n",
      "8                                         Description  \n",
      "9                                           Unique ID  \n",
      "10          Number of miles eligible for award travel  \n",
      "11  Number of miles counted as qualifying for Topf...  \n",
      "12  Number of miles earned with freq. flyer credit...  \n",
      "13  Number of miles earned with Rewards credit car...  \n",
      "14  Number of miles earned with Small Business cre...  \n",
      "15                                    1 = under 5,000  \n",
      "16                                 2 = 5,000 - 10,000  \n",
      "17                                3 = 10,001 - 25,000  \n",
      "18                                4 = 25,001 - 50,000  \n",
      "19                                    5 = over 50,000  \n",
      "20  Number of miles earned from non-flight bonus t...  \n",
      "21  Number of non-flight bonus transactions in the...  \n",
      "22       Number of flight miles in the past 12 months  \n",
      "23  Number of flight transactions in the past 12 m...  \n",
      "24                   Number of days since Enroll_date  \n",
      "25  Dummy variable for Last_award (1=not null, 0=n...  \n"
     ]
    }
   ],
   "source": [
    "import pandas as pd\n",
    "from sklearn.cluster import KMeans\n",
    "import matplotlib.pyplot as plt\n",
    "from sklearn.preprocessing import StandardScaler\n",
    "data = pd.read_excel('C:\\\\Users\\\\rishi\\\\OneDrive\\\\Desktop\\\\DS Assigments\\\\EastWestAirlines.xlsx')\n",
    "print(data)"
   ]
  },
  {
   "cell_type": "code",
   "execution_count": 43,
   "id": "f8d6687e-18b2-4843-9bf7-f44080a02683",
   "metadata": {},
   "outputs": [],
   "source": [
    "# Convert categorical columns to numeric using LabelEncoder\n",
    "label_encoder = LabelEncoder()\n",
    "for col in data.select_dtypes(include=['object']).columns:\n",
    "    data[col] = label_encoder.fit_transform(data[col].astype(str)) "
   ]
  },
  {
   "cell_type": "code",
   "execution_count": 44,
   "id": "176a3f2b-3281-4a7d-87ff-ed874fce46f0",
   "metadata": {},
   "outputs": [],
   "source": [
    "# Handle missing values\n",
    "data = data.fillna(data.mean())\n"
   ]
  },
  {
   "cell_type": "code",
   "execution_count": 45,
   "id": "b0b99892-c4b7-40a7-a05a-b681b70e1c66",
   "metadata": {},
   "outputs": [],
   "source": [
    "# Apply Standard Scaling\n",
    "scaler = StandardScaler()\n",
    "data_scaled = scaler.fit_transform(data)"
   ]
  },
  {
   "cell_type": "code",
   "execution_count": 46,
   "id": "78fa8351-87ae-4543-871c-d8c3162cab9a",
   "metadata": {},
   "outputs": [],
   "source": [
    "# Convert scaled data to DataFrame\n",
    "data_scaled_df = pd.DataFrame(data_scaled, columns=data.columns)"
   ]
  },
  {
   "cell_type": "code",
   "execution_count": 47,
   "id": "10084bdb-c273-43dc-a20e-48a4733da20c",
   "metadata": {},
   "outputs": [
    {
     "name": "stdout",
     "output_type": "stream",
     "text": [
      "Data types after preprocessing:\n",
      "East-West Airlines is trying to learn more about its customers.  Key issues are their    int32\n",
      "Unnamed: 1                                                                               int32\n",
      "Unnamed: 2                                                                               int32\n",
      "Unnamed: 3                                                                               int32\n",
      "Unnamed: 4                                                                               int32\n",
      "dtype: object\n",
      "Shape of scaled data DataFrame:\n",
      "(26, 5)\n",
      "   East-West Airlines is trying to learn more about its customers.  Key issues are their  \\\n",
      "0                                           0.906374                                       \n",
      "1                                           0.256285                                       \n",
      "2                                           1.068896                                       \n",
      "3                                           1.068896                                       \n",
      "4                                           0.093763                                       \n",
      "\n",
      "   Unnamed: 1  Unnamed: 2  Unnamed: 3  Unnamed: 4  \n",
      "0    0.790569     0.51465     0.90007    1.068896  \n",
      "1    0.790569     0.51465     0.90007    1.068896  \n",
      "2    0.790569     0.51465     0.90007    1.068896  \n",
      "3    0.790569     0.51465     0.90007    1.068896  \n",
      "4    0.790569     0.51465     0.90007    1.068896  \n"
     ]
    }
   ],
   "source": [
    "# Print shapes and data types for verification\n",
    "print(\"Data types after preprocessing:\")\n",
    "print(data.dtypes)\n",
    "print(\"Shape of scaled data DataFrame:\")\n",
    "print(data_scaled_df.shape)\n",
    "print(data_scaled_df.head())"
   ]
  },
  {
   "cell_type": "markdown",
   "id": "8372656f-f85e-479d-ab91-df0136900dd3",
   "metadata": {},
   "source": [
    "**K-Means**"
   ]
  },
  {
   "cell_type": "code",
   "execution_count": 48,
   "id": "f9fa31e9-5625-474b-a4ca-d17f5af6c029",
   "metadata": {},
   "outputs": [
    {
     "name": "stderr",
     "output_type": "stream",
     "text": [
      "C:\\ProgramData\\anaconda3\\Lib\\site-packages\\sklearn\\cluster\\_kmeans.py:870: FutureWarning: The default value of `n_init` will change from 10 to 'auto' in 1.4. Set the value of `n_init` explicitly to suppress the warning\n",
      "  warnings.warn(\n",
      "C:\\ProgramData\\anaconda3\\Lib\\site-packages\\sklearn\\cluster\\_kmeans.py:1382: UserWarning: KMeans is known to have a memory leak on Windows with MKL, when there are less chunks than available threads. You can avoid it by setting the environment variable OMP_NUM_THREADS=1.\n",
      "  warnings.warn(\n"
     ]
    }
   ],
   "source": [
    "# Apply K-Means\n",
    "kmeans = KMeans(n_clusters=3, random_state=0)\n",
    "clusters = kmeans.fit_predict(data_scaled)"
   ]
  },
  {
   "cell_type": "markdown",
   "id": "56025b29-dbd4-4b3a-90be-7a6452521af9",
   "metadata": {},
   "source": [
    "**Observation**\n",
    "The first line creates an instance of the K-Means algorithm with 3 clusters. The random_state=0 parameter sees that the results are reproducible by setting a fixed seed for the random number generator\n",
    "The second line fits the k-means model to the scaled data and predicts the cluster for each data point. The result is an array of cluster labels."
   ]
  },
  {
   "cell_type": "code",
   "execution_count": 49,
   "id": "b0d26e30-c29e-41d8-ae9b-59739b94c8c8",
   "metadata": {},
   "outputs": [],
   "source": [
    "# Create DataFrame with scaled data and clusters\n",
    "# Ensure correct column names if needed\n",
    "data_scaled_df = pd.DataFrame(data_scaled, columns=[f'Feature {i+1}' for i in range(data_scaled.shape[1])])\n",
    "data_scaled_df['Cluster'] = clusters"
   ]
  },
  {
   "cell_type": "code",
   "execution_count": 50,
   "id": "64966c29-df71-4d5c-9cd8-21e189865d49",
   "metadata": {},
   "outputs": [
    {
     "name": "stdout",
     "output_type": "stream",
     "text": [
      "Shape of scaled data DataFrame: (26, 6)\n",
      "   Feature 1  Feature 2  Feature 3  Feature 4  Feature 5  Cluster\n",
      "0   0.906374   0.790569    0.51465    0.90007   1.068896        1\n",
      "1   0.256285   0.790569    0.51465    0.90007   1.068896        1\n",
      "2   1.068896   0.790569    0.51465    0.90007   1.068896        1\n",
      "3   1.068896   0.790569    0.51465    0.90007   1.068896        1\n",
      "4   0.093763   0.790569    0.51465    0.90007   1.068896        1\n"
     ]
    }
   ],
   "source": [
    "# Print shape and preview to verify\n",
    "print(\"Shape of scaled data DataFrame:\", data_scaled_df.shape)\n",
    "print(data_scaled_df.head())"
   ]
  },
  {
   "cell_type": "code",
   "execution_count": 51,
   "id": "1a2f0354-8f61-4fff-a58b-9cc21f3fec50",
   "metadata": {},
   "outputs": [
    {
     "data": {
      "image/png": "[encoded data removed]",
      "text/plain": [
       "<Figure size 640x480 with 1 Axes>"
      ]
     },
     "metadata": {},
     "output_type": "display_data"
    }
   ],
   "source": [
    "# Visualize clusters\n",
    "plt.scatter(data_scaled_df.iloc[:, 0], data_scaled_df.iloc[:, 1], c=data_scaled_df['Cluster'], cmap='viridis')\n",
    "plt.xlabel('Feature 1')\n",
    "plt.ylabel('Feature 2')\n",
    "plt.title('K-Means Clusters')\n",
    "plt.show()\n"
   ]
  },
  {
   "cell_type": "markdown",
   "id": "73614c8f-6b98-4176-b8df-605aada82467",
   "metadata": {},
   "source": [
    "**Observation**\n",
    "The first line creates a scatter plot of the first two features from the data frame\n",
    "The color of each point represents its cluster assignment as determined by the k-means algorithm. The 'cmap=viridis' parameter sets the color map to 'Viridis' which is a color scheme for better visual distinction\n",
    "adding labels and title-like labels on the x-axis as feature1\n",
    "labels the y-axis as feature2\n",
    "adds a title to the scatter plot indicating that it shows k-means clusters\n",
    "So this helps in understanding how the data points are grouped into different clusters based on the features"
   ]
  },
  {
   "cell_type": "markdown",
   "id": "1c386d26-1d39-4e6f-b20e-86511e18d38e",
   "metadata": {},
   "source": [
    "**Hierarchical clustering**"
   ]
  },
  {
   "cell_type": "code",
   "execution_count": 52,
   "id": "1c693632-e616-4ab0-a3e8-07e677ea47ec",
   "metadata": {},
   "outputs": [
    {
     "data": {
      "image/png": "[encoded data removed]",
      "text/plain": [
       "<Figure size 640x480 with 1 Axes>"
      ]
     },
     "metadata": {},
     "output_type": "display_data"
    }
   ],
   "source": [
    "#Hierarchical clustering\n",
    "from scipy.cluster.hierarchy import dendrogram, linkage, fcluster\n",
    "\n",
    "# Perform hierarchical clustering\n",
    "Z = linkage(data_scaled, 'ward')\n",
    "dendrogram(Z)\n",
    "plt.title('Dendrogram')\n",
    "plt.show()\n"
   ]
  },
  {
   "cell_type": "markdown",
   "id": "fabf5342-cecc-4f40-a4e1-ce63da5c88b4",
   "metadata": {},
   "source": [
    "**Observation**\n",
    "It performs hierarchical clustering on the scaled data and visualizes the results using a dendrogram \n",
    "the first line applies hierarchical clustering to the scaled data using the 'ward' method which minimizes the variance within clusters. The linkage function returns a linkage matrix 'Z' which contains the hierarchical clustering information.\n",
    "dendogram(Z): it generates a dendrogram a tree-like diagram that shows the arrangement of the clusters and how they merge at various distances.and at last adds a title to the dendrogram plot and displays it."
   ]
  },
  {
   "cell_type": "code",
   "execution_count": 53,
   "id": "3fca9bd1-bf17-4579-946e-758be5153988",
   "metadata": {},
   "outputs": [
    {
     "data": {
      "image/png": "[encoded data removed]",
      "text/plain": [
       "<Figure size 640x480 with 1 Axes>"
      ]
     },
     "metadata": {},
     "output_type": "display_data"
    }
   ],
   "source": [
    "# Form clusters\n",
    "clusters = fcluster(Z, t=3, criterion='maxclust')\n",
    "\n",
    "# Add cluster labels to DataFrame\n",
    "data_scaled_df['Cluster'] = clusters\n",
    "\n",
    "# Visualize clusters\n",
    "plt.scatter(data_scaled_df.iloc[:, 0], data_scaled_df.iloc[:, 1], c=data_scaled_df['Cluster'], cmap='viridis')\n",
    "plt.xlabel('Feature 1')\n",
    "plt.ylabel('Feature 2')\n",
    "plt.title('Hierarchical Clustering')\n",
    "plt.show()"
   ]
  },
  {
   "cell_type": "markdown",
   "id": "e6540b9d-5da3-404a-b900-7b662f382536",
   "metadata": {},
   "source": [
    "**Observation**\n",
    "The first line assigns cluster labels it extracts cluster labels from the hierarchical clustering results in the 'fcluster' function groups the data into 't=3' clusters based on the maximum number of clusters criterion\n",
    "The second line adds the cluster labels to the dataframe creating a new column called 'Cluster' to store the assigned cluster for each datapoint.\n",
    "In visualize clusters the first line creates a scatter plot of the first two features from the 'data_scaled_df' dataframe. each point is colored according to its cluster assignment using the 'virids' color map.\n",
    "adding label and titles like labels the x-axis as feature1, y-axis as feature2.\n",
    "adding a title to the scatter plot indicating that it shows hierarchical clustering results. \n",
    "Displaying the scatter plot.\n",
    "\n",
    "\n",
    "\n"
   ]
  },
  {
   "cell_type": "markdown",
   "id": "0cec228f-c453-4772-894a-3509f008a337",
   "metadata": {},
   "source": [
    "**DBSCAN**"
   ]
  },
  {
   "cell_type": "code",
   "execution_count": 55,
   "id": "26f9704e-ff88-434d-80f8-652c9976ba21",
   "metadata": {},
   "outputs": [],
   "source": [
    "#DBSCAN\n",
    "from sklearn.cluster import DBSCAN\n",
    "\n",
    "# Apply DBSCAN\n",
    "dbscan = DBSCAN(eps=0.5, min_samples=5)\n",
    "clusters = dbscan.fit_predict(data_scaled)"
   ]
  },
  {
   "cell_type": "markdown",
   "id": "f86009d6-722d-40a3-8fa7-b52d5a96a4df",
   "metadata": {},
   "source": [
    "**Observation**\n",
    "This code applies the DBSCAN clustering algorithm to the scaled data to identify clusters.\n",
    "the first line it creates a instance of the DBSCAN algorithm with 'eps=0.5' and 'min_samples=5'.The 'eps' parameters defined the maximum distance between two samples for one to be considered as in the neighborhood of the other and 'min_samples' specifies the minimum number of samples required to form a dense region\n",
    "The last line it fits the DBSCAN model to the scaled data and predicts the cluster labels.The result is an array of cluster labels for each data point the point labels as -1 are considered as outliers"
   ]
  },
  {
   "cell_type": "code",
   "execution_count": 56,
   "id": "89dd7941-eb7c-4770-861c-b87d3fefeb35",
   "metadata": {},
   "outputs": [],
   "source": [
    "# Add cluster labels to DataFrame\n",
    "data_scaled_df['Cluster'] = clusters"
   ]
  },
  {
   "cell_type": "code",
   "execution_count": 57,
   "id": "f76eb8d3-7eaa-4cf3-9876-2ea01b3e7b3f",
   "metadata": {},
   "outputs": [
    {
     "data": {
      "image/png": "[encoded data removed]",
      "text/plain": [
       "<Figure size 640x480 with 1 Axes>"
      ]
     },
     "metadata": {},
     "output_type": "display_data"
    }
   ],
   "source": [
    "# Visualize clusters\n",
    "plt.scatter(data_scaled_df.iloc[:, 0], data_scaled_df.iloc[:, 1], c=data_scaled_df['Cluster'], cmap='viridis')\n",
    "plt.xlabel('Feature 1')\n",
    "plt.ylabel('Feature 2')\n",
    "plt.title('DBSCAN Clusters')\n",
    "plt.show()\n"
   ]
  },
  {
   "cell_type": "markdown",
   "id": "de3c225a-c0cb-45ce-b426-32d895dd1354",
   "metadata": {},
   "source": [
    "**Observation**\n",
    "The code creates a scatter plot to visualize the clusters identified by the DBSCAN algorithm.\n",
    "The first line it generates a scatter plot of the first two features from the 'data_scaled_df' data frame. Each point is colored based on its cluster assignment  points labeled as -1 bt DBSCAN which represents outliers adding labels and titles like x-axis as feature1, y-axis as feature2 and to scatter plot indicating that it shows the result DBSCAN clustering"
   ]
  },
  {
   "cell_type": "code",
   "execution_count": 58,
   "id": "dc9d8e8b-95b7-42b5-a016-fb1741f7724b",
   "metadata": {},
   "outputs": [],
   "source": [
    "#Evaluating clustering quality\n",
    "from sklearn.metrics import silhouette_score"
   ]
  },
  {
   "cell_type": "code",
   "execution_count": 59,
   "id": "67e78495-b907-49db-8836-ebda746504d1",
   "metadata": {},
   "outputs": [
    {
     "name": "stdout",
     "output_type": "stream",
     "text": [
      "Silhouette Score: 0.19343926521450888\n"
     ]
    }
   ],
   "source": [
    "# Compute silhouette score\n",
    "silhouette_avg = silhouette_score(data_scaled, clusters)\n",
    "print(f'Silhouette Score: {silhouette_avg}')\n"
   ]
  },
  {
   "cell_type": "markdown",
   "id": "ef1b5e4e-c501-40ca-996e-2cbdc6cd6d1c",
   "metadata": {},
   "source": [
    "**Observation**\n",
    "The code calculates and displays the silhouette score for the clustering results.\n",
    "The first line computes the silhouette scored for the clusters obtained from the clustering algorithm. The Silhouette score measures how similar each sample is to its cluster compared to other clusters, A higher score indicates a better-defined cluster\n",
    "and prints the calculated silhouette score to the console."
   ]
  }
 ],
 "metadata": {
  "kernelspec": {
   "display_name": "Python 3 (ipykernel)",
   "language": "python",
   "name": "python3"
  },
  "language_info": {
   "codemirror_mode": {
    "name": "ipython",
    "version": 3
   },
   "file_extension": ".py",
   "mimetype": "text/x-python",
   "name": "python",
   "nbconvert_exporter": "python",
   "pygments_lexer": "ipython3",
   "version": "3.11.7"
  }
 },
 "nbformat": 4,
 "nbformat_minor": 5
}
